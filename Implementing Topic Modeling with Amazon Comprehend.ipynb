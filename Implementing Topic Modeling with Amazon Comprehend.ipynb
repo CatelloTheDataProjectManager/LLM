{
 "cells": [
  {
   "cell_type": "markdown",
   "metadata": {},
   "source": [
    "# Implementing Topic Modeling with Amazon Comprehend"
   ]
  },
  {
   "cell_type": "markdown",
   "metadata": {},
   "source": [
    "## 1. Importing requirements and creating session variables\n"
   ]
  },
  {
   "cell_type": "code",
   "execution_count": 1,
   "metadata": {},
   "outputs": [],
   "source": [
    "import boto3\n",
    "import uuid\n",
    "# Client and session information\n",
    "comprehend_client = boto3.client(service_name='comprehend')\n",
    "\n",
    "\n",
    "# Constants for the S3 bucket and input data file\n",
    "bucket = 'c144486a3735945l8877744t1w736676914078-labbucket-bszdgpywwmc4'\n",
    "data_access_role_arn = 'arn:aws:iam::736676914078:role/service-role/c144486a3735945l8877744t1w-ComprehendDataAccessRole-rP2u77TljxYA'\n"
   ]
  },
  {
   "cell_type": "markdown",
   "metadata": {},
   "source": [
    "## 2. Importing the newsgroup files"
   ]
  },
  {
   "cell_type": "code",
   "execution_count": 2,
   "metadata": {},
   "outputs": [],
   "source": [
    "import os\n",
    "import shutil\n",
    "\n",
    "data_dir = '20_newsgroups'\n",
    "if os.path.exists(data_dir):  # Clean up existing data folder\n",
    "    shutil.rmtree(data_dir)"
   ]
  },
  {
   "cell_type": "code",
   "execution_count": 3,
   "metadata": {},
   "outputs": [
    {
     "name": "stdout",
     "output_type": "stream",
     "text": [
      "alt.atheism\t\t  rec.autos\t      sci.space\n",
      "comp.graphics\t\t  rec.motorcycles     soc.religion.christian\n",
      "comp.os.ms-windows.misc   rec.sport.baseball  talk.politics.guns\n",
      "comp.sys.ibm.pc.hardware  rec.sport.hockey    talk.politics.mideast\n",
      "comp.sys.mac.hardware\t  sci.crypt\t      talk.politics.misc\n",
      "comp.windows.x\t\t  sci.electronics     talk.religion.misc\n",
      "misc.forsale\t\t  sci.med\n"
     ]
    }
   ],
   "source": [
    "!tar -xzf ../s3/20_newsgroups.tar.gz\n",
    "!ls 20_newsgroups"
   ]
  },
  {
   "cell_type": "code",
   "execution_count": 4,
   "metadata": {},
   "outputs": [
    {
     "name": "stdout",
     "output_type": "stream",
     "text": [
      "Number of documents: 19997\n"
     ]
    }
   ],
   "source": [
    "folders = [os.path.join(data_dir,f) for f in sorted(os.listdir(data_dir)) if os.path.isdir(os.path.join(data_dir, f))]\n",
    "file_list = [os.path.join(d,f) for d in folders for f in os.listdir(d)]\n",
    "print('Number of documents:', len(file_list))"
   ]
  },
  {
   "cell_type": "markdown",
   "metadata": {},
   "source": [
    "## 3. Examining and preprocessing the data"
   ]
  },
  {
   "cell_type": "code",
   "execution_count": 5,
   "metadata": {},
   "outputs": [
    {
     "name": "stdout",
     "output_type": "stream",
     "text": [
      "Path: cantaloupe.srv.cs.cmu.edu!crabapple.srv.cs.cmu.edu!fs7.ece.cmu.edu!europa.eng.gtefsd.com!howland.reston.ans.net!usc!elroy.jpl.nasa.gov!nntp-server.caltech.edu!andrey\n",
      "From: andrey@cco.caltech.edu (Andre T. Yew)\n",
      "Newsgroups: comp.graphics\n",
      "Subject: Re: 16 million vs 65 thousand colors\n",
      "Date: 3 Apr 1993 19:51:06 GMT\n",
      "Organization: California Institute of Technology, Pasadena\n",
      "Lines: 28\n",
      "Message-ID: <1pkpraINNck9@gap.caltech.edu>\n",
      "References: <1993Mar26.210323.27802@midway.uchicago.edu> <dotzlaw-020493084300@murphy.biochem.umanitoba.ca> <d9hh.733845825@dtek.chalmers.se>\n",
      "NNTP-Posting-Host: punisher.caltech.edu\n",
      "\n",
      "d9hh@dtek.chalmers.se (Henrik Harmsen) writes:\n",
      "\n",
      ">1-4 bits per R/G/B gives horrible machbanding visible in almost any picture.\n",
      "\n",
      ">5 bits per R/G/B (32768, 65000 colors) gives visible machbanding\n",
      "\n",
      ">color-gradient picture has _almost_ no machbanding. This color-resolution is \n",
      "\n",
      ">see some small machbanding on the smooth color-gradient picture, but all in all,\n",
      ">There _ARE_ situiations where you get visible mach-banding even in\n",
      ">a 24 bit card. If\n",
      ">you create a very smooth color gradient of dark-green-white-yellow\n",
      ">or something and turn\n",
      ">up the contrast on the monitor, you will probably see some mach-banding.\n",
      "\n",
      "    While I don't mean to damn Henrik's attempt to be helpful here,\n",
      "he's using a common misconception that should be corrected.\n",
      "\n",
      "    Mach banding will occur for any image.  It is not the color\n",
      "quantization you see when you don't have enough bits.  It is the\n",
      "human eye's response to transitions or edges between intensities.\n",
      "The result is that colors near the transistion look brighter on\n",
      "the brighter side and darker on the darker side.\n",
      "\n",
      "--Andre\n",
      "\n",
      "-- \n",
      "             Andre Yew andrey@cco.caltech.edu (131.215.139.2)\n"
     ]
    }
   ],
   "source": [
    "!cat 20_newsgroups/comp.graphics/37917"
   ]
  },
  {
   "cell_type": "markdown",
   "metadata": {},
   "source": [
    "The following functions will remove the headers, quoted text, and footers."
   ]
  },
  {
   "cell_type": "code",
   "execution_count": 6,
   "metadata": {},
   "outputs": [],
   "source": [
    "# From sklearn.datasets.twenty_newsgroups import strip_newsgroup_header, strip_newsgroup_quoting, strip_newsgroup_footer\n",
    "import re\n",
    "def strip_newsgroup_header(text):\n",
    "    \"\"\"\n",
    "    Given text in \"news\" format, strip the headers by removing everything\n",
    "    before the first blank line.\n",
    "    \"\"\"\n",
    "    _before, _blankline, after = text.partition('\\n\\n')\n",
    "    return after\n",
    "\n",
    "_QUOTE_RE = re.compile(r'(writes in|writes:|wrote:|says:|said:'\n",
    "                       r'|^In article|^Quoted from|^\\||^>)')\n",
    "\n",
    "\n",
    "def strip_newsgroup_quoting(text):\n",
    "    \"\"\"\n",
    "    Given text in \"news\" format, strip lines beginning with the quote\n",
    "    characters > or |, plus lines that often introduce a quoted section\n",
    "    (for example, because they contain the string 'writes:'.)\n",
    "    \"\"\"\n",
    "    good_lines = [line for line in text.split('\\n')\n",
    "                  if not _QUOTE_RE.search(line)]\n",
    "    return '\\n'.join(good_lines)\n",
    "\n",
    "\n",
    "def strip_newsgroup_footer(text):\n",
    "    \"\"\"\n",
    "    Given text in \"news\" format, attempt to remove a signature block.\n",
    "\n",
    "    As a rough heuristic, we assume that signatures are set apart by either\n",
    "    a blank line or a line made of hyphens, and that it is the last such line\n",
    "    in the file (disregarding blank lines at the end).\n",
    "    \"\"\"\n",
    "    lines = text.strip().split('\\n')\n",
    "    for line_num in range(len(lines) - 1, -1, -1):\n",
    "        line = lines[line_num]\n",
    "        if line.strip().strip('-') == '':\n",
    "            break\n",
    "\n",
    "    if line_num > 0:\n",
    "        return '\\n'.join(lines[:line_num])\n",
    "    else:\n",
    "        return text"
   ]
  },
  {
   "cell_type": "code",
   "execution_count": 7,
   "metadata": {},
   "outputs": [],
   "source": [
    "data = []\n",
    "for f in file_list:\n",
    "    with open(f, 'rb') as fin:\n",
    "        content = fin.read().decode('latin1')   \n",
    "        content = strip_newsgroup_header(content)\n",
    "        content = strip_newsgroup_quoting(content)\n",
    "        content = strip_newsgroup_footer(content)\n",
    "        # remove header, quoting and footer\n",
    "        data.append(content)"
   ]
  },
  {
   "cell_type": "code",
   "execution_count": 8,
   "metadata": {},
   "outputs": [],
   "source": [
    "with open('comprehend_input.txt','w', encoding='UTF-8') as cf:\n",
    "    for line in data:\n",
    "        line = line.strip()\n",
    "        line = re.sub('\\n',' ',line)\n",
    "        line = re.sub('\\r',' ',line)\n",
    "        cf.write(line+'\\n')"
   ]
  },
  {
   "cell_type": "code",
   "execution_count": 9,
   "metadata": {},
   "outputs": [],
   "source": [
    "s3 = boto3.resource('s3')\n",
    "s3.Bucket(bucket).upload_file('comprehend_input.txt', 'comprehend/newsgroups')"
   ]
  },
  {
   "cell_type": "code",
   "execution_count": 10,
   "metadata": {},
   "outputs": [
    {
     "name": "stdout",
     "output_type": "stream",
     "text": [
      "s3://c144486a3735945l8877744t1w736676914078-labbucket-bszdgpywwmc4/comprehend\n"
     ]
    }
   ],
   "source": [
    "number_of_topics = 20\n",
    "\n",
    "input_s3_url = f\"s3://{bucket}/comprehend\"\n",
    "input_doc_format = \"ONE_DOC_PER_LINE\"\n",
    "input_data_config = {\"S3Uri\": input_s3_url, \"InputFormat\": input_doc_format}\n",
    "\n",
    "output_s3_url = f\"s3://{bucket}/outputfolder/\"\n",
    "output_data_config = {\"S3Uri\": output_s3_url}\n",
    "\n",
    "job_uuid = uuid.uuid1()\n",
    "job_name = f\"top-job-{job_uuid}\"\n",
    "\n",
    "print(input_s3_url)"
   ]
  },
  {
   "cell_type": "code",
   "execution_count": 11,
   "metadata": {},
   "outputs": [],
   "source": [
    "start_topics_detection_job_result = comprehend_client.start_topics_detection_job(NumberOfTopics=number_of_topics,\n",
    "                                                                              InputDataConfig=input_data_config,\n",
    "                                                                              JobName=job_name,\n",
    "                                                                              OutputDataConfig=output_data_config,\n",
    "                                                                              DataAccessRoleArn=data_access_role_arn\n",
    "                                                                            )\n",
    "\n",
    "\n"
   ]
  },
  {
   "cell_type": "code",
   "execution_count": 12,
   "metadata": {},
   "outputs": [
    {
     "name": "stdout",
     "output_type": "stream",
     "text": [
      ".............................Ready\n"
     ]
    }
   ],
   "source": [
    "# Get current job status\n",
    "from time import sleep\n",
    "job = comprehend_client.describe_topics_detection_job(JobId=start_topics_detection_job_result['JobId'])\n",
    "\n",
    "# Loop until job is completed\n",
    "waited = 0\n",
    "timeout_minutes = 40\n",
    "while job['TopicsDetectionJobProperties']['JobStatus'] != 'COMPLETED':\n",
    "    sleep(60)\n",
    "    waited += 60\n",
    "    assert waited//60 < timeout_minutes, \"Job timed out after %d seconds.\" % waited\n",
    "    print('.', end='')\n",
    "    job = comprehend_client.describe_topics_detection_job(JobId=start_topics_detection_job_result['JobId'])\n",
    "\n",
    "print('Ready')"
   ]
  },
  {
   "cell_type": "code",
   "execution_count": 13,
   "metadata": {},
   "outputs": [
    {
     "name": "stdout",
     "output_type": "stream",
     "text": [
      "output filename: s3://c144486a3735945l8877744t1w736676914078-labbucket-bszdgpywwmc4/outputfolder/736676914078-TOPICS-efd78bd52e94b479d93202d533aff60c/output/output.tar.gz\n",
      "outputfolder/736676914078-TOPICS-efd78bd52e94b479d93202d533aff60c/output/output.tar.gz\n"
     ]
    }
   ],
   "source": [
    "topic_comprehend_output_file = job['TopicsDetectionJobProperties']['OutputDataConfig']['S3Uri']\n",
    "print(f'output filename: {topic_comprehend_output_file}')\n",
    "\n",
    "topics_comprehend_bucket, topics_comprehend_key = topic_comprehend_output_file.replace(\"s3://\", \"\").split(\"/\", 1)\n",
    "print(topics_comprehend_key)\n",
    "s3r = boto3.resource('s3')\n",
    "s3r.meta.client.download_file(topics_comprehend_bucket, topics_comprehend_key, 'output.tar.gz')"
   ]
  },
  {
   "cell_type": "code",
   "execution_count": 14,
   "metadata": {},
   "outputs": [],
   "source": [
    "# Extract the .tar file\n",
    "import tarfile\n",
    "tf = tarfile.open('output.tar.gz')\n",
    "tf.extractall()"
   ]
  },
  {
   "cell_type": "markdown",
   "metadata": {
    "slideshow": {
     "slide_type": "slide"
    }
   },
   "source": [
    "## 4. Analyzing the Amazon Comprehend Events output"
   ]
  },
  {
   "cell_type": "code",
   "execution_count": 15,
   "metadata": {},
   "outputs": [],
   "source": [
    "import pandas as pd\n",
    "dftopicterms = pd.read_csv(\"topic-terms.csv\")"
   ]
  },
  {
   "cell_type": "code",
   "execution_count": 16,
   "metadata": {},
   "outputs": [
    {
     "data": {
      "text/html": [
       "<div>\n",
       "<style scoped>\n",
       "    .dataframe tbody tr th:only-of-type {\n",
       "        vertical-align: middle;\n",
       "    }\n",
       "\n",
       "    .dataframe tbody tr th {\n",
       "        vertical-align: top;\n",
       "    }\n",
       "\n",
       "    .dataframe thead th {\n",
       "        text-align: right;\n",
       "    }\n",
       "</style>\n",
       "<table border=\"1\" class=\"dataframe\">\n",
       "  <thead>\n",
       "    <tr style=\"text-align: right;\">\n",
       "      <th></th>\n",
       "      <th>topic</th>\n",
       "      <th>term</th>\n",
       "      <th>weight</th>\n",
       "    </tr>\n",
       "  </thead>\n",
       "  <tbody>\n",
       "    <tr>\n",
       "      <th>0</th>\n",
       "      <td>0</td>\n",
       "      <td>people</td>\n",
       "      <td>0.031250</td>\n",
       "    </tr>\n",
       "    <tr>\n",
       "      <th>1</th>\n",
       "      <td>0</td>\n",
       "      <td>thing</td>\n",
       "      <td>0.011662</td>\n",
       "    </tr>\n",
       "    <tr>\n",
       "      <th>2</th>\n",
       "      <td>0</td>\n",
       "      <td>government</td>\n",
       "      <td>0.009719</td>\n",
       "    </tr>\n",
       "    <tr>\n",
       "      <th>3</th>\n",
       "      <td>0</td>\n",
       "      <td>force</td>\n",
       "      <td>0.008121</td>\n",
       "    </tr>\n",
       "    <tr>\n",
       "      <th>4</th>\n",
       "      <td>0</td>\n",
       "      <td>kill</td>\n",
       "      <td>0.006174</td>\n",
       "    </tr>\n",
       "  </tbody>\n",
       "</table>\n",
       "</div>"
      ],
      "text/plain": [
       "   topic        term    weight\n",
       "0      0      people  0.031250\n",
       "1      0       thing  0.011662\n",
       "2      0  government  0.009719\n",
       "3      0       force  0.008121\n",
       "4      0        kill  0.006174"
      ]
     },
     "execution_count": 16,
     "metadata": {},
     "output_type": "execute_result"
    }
   ],
   "source": [
    "dftopicterms.head()"
   ]
  },
  {
   "cell_type": "markdown",
   "metadata": {},
   "source": [
    "Print each of the topics and the top words for each topic. "
   ]
  },
  {
   "cell_type": "code",
   "execution_count": 17,
   "metadata": {},
   "outputs": [
    {
     "name": "stdout",
     "output_type": "stream",
     "text": [
      "Topic  0 - ['people', 'thing', 'government', 'force', 'kill', 'live', 'associate', 'gun', 'law', 'moral']\n",
      "Topic  1 - ['find', 'source', 'information', 'stuff', 'code', 'delete', 'site', 'ftp', 'image', 'advance']\n",
      "Topic  2 - ['year', 'team', 'ago', 'beat', 'win', 'player', 'play', 'game', 'league', 'season']\n",
      "Topic  3 - ['work', 'bike', 'bite', 'machine', 'modem', 'suppose', 'port', 'universe', 'version', 'accurately']\n",
      "Topic  4 - ['program', 'disk', 'read', 'run', 'mac', 'pc', 'book', 'write', 'speed', 'copy']\n",
      "Topic  5 - ['christian', 'jesus', 'koresh', 'david', 'people', 'claim', 'church', 'christ', 'bible', 'religion']\n",
      "Topic  6 - ['book', 'read', 'church', 'christian', 'randism', 'write', 'disk', 'jesus', 'article', 'bible']\n",
      "Topic  7 - ['sell', 'price', 'offer', 'ship', 'include', 'pay', 'condition', 'email', 'buy', 'interest']\n",
      "Topic  8 - ['post', 'day', 'article', 'read', 'delete', 'stuff', 'group', 'think', 'lot', 'reply']\n",
      "Topic  9 - ['file', 'format', 'program', 'window', 'convert', 'gif', 'find', 'image', 'directory', 'ftp']\n",
      "Topic 10 - ['card', 'video', 'monitor', 'driver', 'color', 'vga', 'bus', 'mode', 'graphic', 'window']\n",
      "Topic 11 - ['problem', 'year', 'monitor', 'fix', 'ago', 'file', 'time', 'uhc', 'print', 'change']\n",
      "Topic 12 - ['make', 'break', 'promise', 'thing', 'sense', 'begin', 'abortion', 'illegal', 'offer', 'wrong']\n",
      "Topic 13 - ['window', 'run', 'program', 'ms', 'application', 'manager', 'server', 'not', 'display', 'file']\n",
      "Topic 14 - ['bike', 'ride', 'good', 'work', 'buy', 'motorcycle', 'drive', 'dod', 'mile', 'think']\n",
      "Topic 15 - ['game', 'play', 'team', 'show', 'win', 'score', 'baseball', 'player', 'hockey', 'espn']\n",
      "Topic 16 - ['question', 'answer', 'time', 'reply', 'faq', 'hear', 'original', 'post', 'christian', 'black']\n",
      "Topic 17 - ['key', 'chip', 'encryption', 'send', 'clipper', 'government', 'escrow', 'encrypt', 'system', 'bite']\n",
      "Topic 18 - ['drive', 'hard', 'scsi', 'disk', 'floppy', 'controller', 'shaft', 'wheelie', 'cd', 'motorcycle']\n",
      "Topic 19 - ['numb', 'call', 'phone', 'dial', 'bbs', 'line', 'support', 'give', 'leg', 'tech']\n"
     ]
    }
   ],
   "source": [
    "# Selecting rows based on condition\n",
    "for t in range(0,number_of_topics):\n",
    "    rslt_df = dftopicterms.loc[dftopicterms['topic'] == t]\n",
    "    topic_list = rslt_df['term'].values.tolist()\n",
    "    print(f'Topic {t:2} - {topic_list}')"
   ]
  },
  {
   "cell_type": "code",
   "execution_count": 18,
   "metadata": {},
   "outputs": [],
   "source": [
    "colnames = pd.DataFrame({'topics':['topic 0', 'topic 1', 'topic 2', 'topic 3', 'topic 4', 'topic 5', 'topic 6','topic 7','topic 8','topic 9',\n",
    "       'topic 10', 'topic 11', 'topic 12', 'topic 13', 'topic 14', 'topic 15', 'topic 16','topic 17','topic 18','topic 19']})"
   ]
  },
  {
   "cell_type": "markdown",
   "metadata": {},
   "source": [
    "Next, read in the doc-topics.csv file."
   ]
  },
  {
   "cell_type": "code",
   "execution_count": 19,
   "metadata": {},
   "outputs": [
    {
     "data": {
      "text/html": [
       "<div>\n",
       "<style scoped>\n",
       "    .dataframe tbody tr th:only-of-type {\n",
       "        vertical-align: middle;\n",
       "    }\n",
       "\n",
       "    .dataframe tbody tr th {\n",
       "        vertical-align: top;\n",
       "    }\n",
       "\n",
       "    .dataframe thead th {\n",
       "        text-align: right;\n",
       "    }\n",
       "</style>\n",
       "<table border=\"1\" class=\"dataframe\">\n",
       "  <thead>\n",
       "    <tr style=\"text-align: right;\">\n",
       "      <th></th>\n",
       "      <th>docname</th>\n",
       "      <th>topic</th>\n",
       "      <th>proportion</th>\n",
       "    </tr>\n",
       "  </thead>\n",
       "  <tbody>\n",
       "    <tr>\n",
       "      <th>0</th>\n",
       "      <td>newsgroups:11</td>\n",
       "      <td>0</td>\n",
       "      <td>1.0</td>\n",
       "    </tr>\n",
       "    <tr>\n",
       "      <th>1</th>\n",
       "      <td>newsgroups:46</td>\n",
       "      <td>0</td>\n",
       "      <td>1.0</td>\n",
       "    </tr>\n",
       "    <tr>\n",
       "      <th>2</th>\n",
       "      <td>newsgroups:81</td>\n",
       "      <td>5</td>\n",
       "      <td>1.0</td>\n",
       "    </tr>\n",
       "    <tr>\n",
       "      <th>3</th>\n",
       "      <td>newsgroups:116</td>\n",
       "      <td>0</td>\n",
       "      <td>1.0</td>\n",
       "    </tr>\n",
       "    <tr>\n",
       "      <th>4</th>\n",
       "      <td>newsgroups:151</td>\n",
       "      <td>2</td>\n",
       "      <td>1.0</td>\n",
       "    </tr>\n",
       "  </tbody>\n",
       "</table>\n",
       "</div>"
      ],
      "text/plain": [
       "          docname  topic  proportion\n",
       "0   newsgroups:11      0         1.0\n",
       "1   newsgroups:46      0         1.0\n",
       "2   newsgroups:81      5         1.0\n",
       "3  newsgroups:116      0         1.0\n",
       "4  newsgroups:151      2         1.0"
      ]
     },
     "execution_count": 19,
     "metadata": {},
     "output_type": "execute_result"
    }
   ],
   "source": [
    "dfdoctopics = pd.read_csv(\"doc-topics.csv\")\n",
    "dfdoctopics.head()"
   ]
  },
  {
   "cell_type": "code",
   "execution_count": 20,
   "metadata": {},
   "outputs": [],
   "source": [
    "to_chart = dfdoctopics.loc[dfdoctopics['docname'].isin(['newsgroups:1000','newsgroups:2000','newsgroups:3000','newsgroups:4000','newsgroups:5000'])]"
   ]
  },
  {
   "cell_type": "code",
   "execution_count": 21,
   "metadata": {},
   "outputs": [
    {
     "data": {
      "text/html": [
       "<div>\n",
       "<style scoped>\n",
       "    .dataframe tbody tr th:only-of-type {\n",
       "        vertical-align: middle;\n",
       "    }\n",
       "\n",
       "    .dataframe tbody tr th {\n",
       "        vertical-align: top;\n",
       "    }\n",
       "\n",
       "    .dataframe thead th {\n",
       "        text-align: right;\n",
       "    }\n",
       "</style>\n",
       "<table border=\"1\" class=\"dataframe\">\n",
       "  <thead>\n",
       "    <tr style=\"text-align: right;\">\n",
       "      <th>docname</th>\n",
       "      <th>newsgroups:1000</th>\n",
       "      <th>newsgroups:2000</th>\n",
       "      <th>newsgroups:3000</th>\n",
       "      <th>newsgroups:4000</th>\n",
       "      <th>newsgroups:5000</th>\n",
       "    </tr>\n",
       "    <tr>\n",
       "      <th>topic</th>\n",
       "      <th></th>\n",
       "      <th></th>\n",
       "      <th></th>\n",
       "      <th></th>\n",
       "      <th></th>\n",
       "    </tr>\n",
       "  </thead>\n",
       "  <tbody>\n",
       "    <tr>\n",
       "      <th>3</th>\n",
       "      <td>NaN</td>\n",
       "      <td>NaN</td>\n",
       "      <td>NaN</td>\n",
       "      <td>NaN</td>\n",
       "      <td>0.163439</td>\n",
       "    </tr>\n",
       "    <tr>\n",
       "      <th>4</th>\n",
       "      <td>NaN</td>\n",
       "      <td>1.0</td>\n",
       "      <td>NaN</td>\n",
       "      <td>1.0</td>\n",
       "      <td>NaN</td>\n",
       "    </tr>\n",
       "    <tr>\n",
       "      <th>10</th>\n",
       "      <td>1.0</td>\n",
       "      <td>NaN</td>\n",
       "      <td>NaN</td>\n",
       "      <td>NaN</td>\n",
       "      <td>NaN</td>\n",
       "    </tr>\n",
       "    <tr>\n",
       "      <th>11</th>\n",
       "      <td>NaN</td>\n",
       "      <td>NaN</td>\n",
       "      <td>NaN</td>\n",
       "      <td>NaN</td>\n",
       "      <td>0.314577</td>\n",
       "    </tr>\n",
       "    <tr>\n",
       "      <th>13</th>\n",
       "      <td>NaN</td>\n",
       "      <td>NaN</td>\n",
       "      <td>NaN</td>\n",
       "      <td>NaN</td>\n",
       "      <td>0.521984</td>\n",
       "    </tr>\n",
       "  </tbody>\n",
       "</table>\n",
       "</div>"
      ],
      "text/plain": [
       "docname  newsgroups:1000  newsgroups:2000  newsgroups:3000  newsgroups:4000  \\\n",
       "topic                                                                         \n",
       "3                    NaN              NaN              NaN              NaN   \n",
       "4                    NaN              1.0              NaN              1.0   \n",
       "10                   1.0              NaN              NaN              NaN   \n",
       "11                   NaN              NaN              NaN              NaN   \n",
       "13                   NaN              NaN              NaN              NaN   \n",
       "\n",
       "docname  newsgroups:5000  \n",
       "topic                     \n",
       "3               0.163439  \n",
       "4                    NaN  \n",
       "10                   NaN  \n",
       "11              0.314577  \n",
       "13              0.521984  "
      ]
     },
     "execution_count": 21,
     "metadata": {},
     "output_type": "execute_result"
    }
   ],
   "source": [
    "to_chart = to_chart.pivot_table(values='proportion', index='topic', columns='docname')\n",
    "to_chart.head()"
   ]
  },
  {
   "cell_type": "code",
   "execution_count": 22,
   "metadata": {},
   "outputs": [
    {
     "data": {
      "text/plain": [
       "Text(0.5, 0, 'Topic ID')"
      ]
     },
     "execution_count": 22,
     "metadata": {},
     "output_type": "execute_result"
    },
    {
     "data": {
      "image/png": "[encoded data removed]",
      "text/plain": [
       "<Figure size 1600x400 with 1 Axes>"
      ]
     },
     "metadata": {},
     "output_type": "display_data"
    }
   ],
   "source": [
    "import matplotlib.pyplot as plt\n",
    "%matplotlib inline\n",
    "\n",
    "fs = 12\n",
    "# df.index = colnames['topic']\n",
    "to_chart.plot(kind='bar', figsize=(16,4), fontsize=fs)\n",
    "plt.ylabel('Topic assignment', fontsize=fs+2)\n",
    "plt.xlabel('Topic ID', fontsize=fs+2)"
   ]
  }
 ],
 "metadata": {
  "instance_type": "ml.t3.medium",
  "kernelspec": {
   "display_name": "Python 3 (ipykernel)",
   "language": "python",
   "name": "python3"
  },
  "language_info": {
   "codemirror_mode": {
    "name": "ipython",
    "version": 3
   },
   "file_extension": ".py",
   "mimetype": "text/x-python",
   "name": "python",
   "nbconvert_exporter": "python",
   "pygments_lexer": "ipython3",
   "version": "3.12.7"
  },
  "toc": {
   "base_numbering": 1,
   "nav_menu": {},
   "number_sections": true,
   "sideBar": true,
   "skip_h1_title": false,
   "title_cell": "Table of Contents",
   "title_sidebar": "Contents",
   "toc_cell": false,
   "toc_position": {},
   "toc_section_display": true,
   "toc_window_display": false
  },
  "vscode": {
   "interpreter": {
    "hash": "b71a13339a0be9489ff337af97259fe0ed71e682663adc836bae31ac651d564e"
   }
  }
 },
 "nbformat": 4,
 "nbformat_minor": 4
}
