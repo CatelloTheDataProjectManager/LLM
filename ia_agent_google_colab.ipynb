{
  "cells": [
    {
      "cell_type": "code",
      "execution_count": 1,
      "metadata": {
        "colab": {
          "base_uri": "https://localhost:8080/"
        },
        "id": "YzZH7gFkEVf8",
        "outputId": "df0bafb4-220b-4e38-84a1-fc3c98b90286"
      },
      "outputs": [
        {
          "name": "stdout",
          "output_type": "stream",
          "text": [
            "<class 'pandas.core.frame.DataFrame'>\n",
            "RangeIndex: 13115 entries, 0 to 13114\n",
            "Data columns (total 7 columns):\n",
            " #   Column       Non-Null Count  Dtype  \n",
            "---  ------       --------------  -----  \n",
            " 0   id           13115 non-null  int64  \n",
            " 1   date         13115 non-null  object \n",
            " 2   datetime     13115 non-null  object \n",
            " 3   cash_type    13115 non-null  object \n",
            " 4   card         13115 non-null  object \n",
            " 5   money        13115 non-null  float64\n",
            " 6   coffee_name  13115 non-null  object \n",
            "dtypes: float64(1), int64(1), object(5)\n",
            "memory usage: 717.4+ KB\n",
            "None\n",
            "          id        date                 datetime cash_type  \\\n",
            "0          1  2024-03-01  2024-03-01 10:15:50.520      card   \n",
            "1          2  2024-03-01  2024-03-01 12:19:22.539      card   \n",
            "2          3  2024-03-01  2024-03-01 12:20:18.089      card   \n",
            "3          4  2024-03-01  2024-03-01 13:46:33.006      card   \n",
            "4          5  2024-03-01  2024-03-01 13:48:14.626      card   \n",
            "...      ...         ...                      ...       ...   \n",
            "13110  13111  2024-12-23  2024-12-23 15:00:23.679      card   \n",
            "13111  13112  2024-12-23  2024-12-23 16:14:50.443      card   \n",
            "13112  13113  2024-12-23  2024-12-23 17:21:20.495      card   \n",
            "13113  13114  2024-12-23  2024-12-23 17:22:40.297      card   \n",
            "13114  13115  2024-12-23  2024-12-23 20:46:07.226      card   \n",
            "\n",
            "                      card  money          coffee_name  \n",
            "0      ANON-0000-0000-0001  38.70                Latte  \n",
            "1      ANON-0000-0000-0002  38.70        Hot Chocolate  \n",
            "2      ANON-0000-0000-0002  38.70        Hot Chocolate  \n",
            "3      ANON-0000-0000-0003  28.90            Americano  \n",
            "4      ANON-0000-0000-0004  38.70                Latte  \n",
            "...                    ...    ...                  ...  \n",
            "13110  ANON-0000-0000-1036  30.86  Americano with Milk  \n",
            "13111  ANON-0000-0000-0906  35.76                Latte  \n",
            "13112  ANON-0000-0000-1037  25.96              Cortado  \n",
            "13113  ANON-0000-0000-1037  35.76                Latte  \n",
            "13114  ANON-0000-0000-1029  25.96              Cortado  \n",
            "\n",
            "[13115 rows x 7 columns]\n"
          ]
        }
      ],
      "source": [
        "import sqlite3\n",
        "import pandas as pd\n",
        "\n",
        "# Connexion à la base de données\n",
        "conn = sqlite3.connect('/content/database/sales.db')\n",
        "\n",
        "# Charger les données de la table 'sales' dans un DataFrame\n",
        "data = pd.read_sql_query(\"SELECT * FROM sales;\", conn)\n",
        "\n",
        "# Afficher les données\n",
        "print(data.info())\n",
        "print(data)\n",
        "\n",
        "# Fermer la connexion\n",
        "conn.close()"
      ]
    },
    {
      "cell_type": "code",
      "execution_count": 26,
      "metadata": {
        "colab": {
          "base_uri": "https://localhost:8080/"
        },
        "id": "ZQUF66zcEgN5",
        "outputId": "0ddc7496-3c53-423d-a8e7-dc569f2239e4"
      },
      "outputs": [
        {
          "name": "stdout",
          "output_type": "stream",
          "text": [
            "\n",
            "KPIs pour Dec 2024 :\n",
            "- Total du chiffre d'affaires : 30265.0\n",
            "- Nombre de transactions : 945\n",
            "- Moyenne du chiffre d'affaires par transaction : 32.0\n",
            "- Produit le plus populaire : Americano with Milk\n",
            "\n",
            "KPIs pour Nov 2024 :\n",
            "- Total du chiffre d'affaires : 42953.0\n",
            "- Nombre de transactions : 1295\n",
            "- Moyenne du chiffre d'affaires par transaction : 33.0\n",
            "- Produit le plus populaire : Latte\n",
            "\n",
            "Tendances en pourcentage par rapport à Nov 2024 :\n",
            "- Variation du chiffre d'affaires : -29.54%\n",
            "- Variation des transactions : -27.03%\n",
            "- Variation de la moyenne du chiffre d'affaires : -3.03%\n",
            "\n"
          ]
        }
      ],
      "source": [
        "# Conversion des colonnes 'date' et 'datetime' en type datetime\n",
        "data['date'] = pd.to_datetime(data['date'], format='%Y-%m-%d')\n",
        "data['datetime'] = pd.to_datetime(data['datetime'], format='%Y-%m-%d %H:%M:%S.%f')\n",
        "\n",
        "# Trouver la dernière date dans les données\n",
        "derniere_date = data['date'].max()\n",
        "dernier_mois = derniere_date.month\n",
        "derniere_annee = derniere_date.year\n",
        "\n",
        "# Déterminer le mois et l'année du mois précédent\n",
        "if dernier_mois == 1:  # Si janvier, alors le mois précédent est décembre de l'année précédente\n",
        "    mois_precedent = 12\n",
        "    annee_precedente = derniere_annee - 1\n",
        "else:\n",
        "    mois_precedent = dernier_mois - 1\n",
        "    annee_precedente = derniere_annee\n",
        "\n",
        "# Filtrer les données pour le dernier mois\n",
        "data_dernier_mois = data[(data['date'].dt.month == dernier_mois) & (data['date'].dt.year == derniere_annee)]\n",
        "\n",
        "# Filtrer les données pour le mois précédent\n",
        "data_mois_precedent = data[(data['date'].dt.month == mois_precedent) & (data['date'].dt.year == annee_precedente)]\n",
        "\n",
        "# Calcul des KPIs pour le dernier mois\n",
        "total_ca_dernier_mois = round(data_dernier_mois['money'].sum(), 0)\n",
        "nombre_transactions_dernier_mois = len(data_dernier_mois)\n",
        "moyenne_ca_dernier_mois = round(data_dernier_mois['money'].mean(), 0)\n",
        "produit_populaire_dernier_mois = data_dernier_mois['coffee_name'].mode()[0]\n",
        "\n",
        "# Calcul des KPIs pour le mois précédent\n",
        "total_ca_mois_precedent = round(data_mois_precedent['money'].sum(), 0)\n",
        "nombre_transactions_mois_precedent = len(data_mois_precedent)\n",
        "moyenne_ca_mois_precedent = round(data_mois_precedent['money'].mean(), 0)\n",
        "produit_populaire_mois_precedent = data_mois_precedent['coffee_name'].mode()[0]\n",
        "\n",
        "# Calcul des pourcentages de variation\n",
        "pourcentage_variation_ca = ((total_ca_dernier_mois - total_ca_mois_precedent) / total_ca_mois_precedent) * 100 if total_ca_mois_precedent != 0 else 0\n",
        "pourcentage_variation_transactions = ((nombre_transactions_dernier_mois - nombre_transactions_mois_precedent) / nombre_transactions_mois_precedent) * 100 if nombre_transactions_mois_precedent != 0 else 0\n",
        "pourcentage_variation_moyenne_ca = ((moyenne_ca_dernier_mois - moyenne_ca_mois_precedent) / moyenne_ca_mois_precedent) * 100 if moyenne_ca_mois_precedent != 0 else 0\n",
        "\n",
        "\n",
        "# Stocker les résultats dans une variable texte\n",
        "mois_dernier_nom = derniere_date.strftime(\"%b %Y\")  # Mois abrégé et année\n",
        "mois_precedent_nom = (derniere_date.replace(day=1) - pd.Timedelta(days=1)).strftime(\"%b %Y\")  # Mois abrégé et année\n",
        "\n",
        "resultats_kpis = f\"\"\"\n",
        "KPIs pour {mois_dernier_nom} :\n",
        "- Total du chiffre d'affaires : {total_ca_dernier_mois}\n",
        "- Nombre de transactions : {nombre_transactions_dernier_mois}\n",
        "- Moyenne du chiffre d'affaires par transaction : {moyenne_ca_dernier_mois}\n",
        "- Produit le plus populaire : {produit_populaire_dernier_mois}\n",
        "\n",
        "KPIs pour {mois_precedent_nom} :\n",
        "- Total du chiffre d'affaires : {total_ca_mois_precedent}\n",
        "- Nombre de transactions : {nombre_transactions_mois_precedent}\n",
        "- Moyenne du chiffre d'affaires par transaction : {moyenne_ca_mois_precedent}\n",
        "- Produit le plus populaire : {produit_populaire_mois_precedent}\n",
        "\n",
        "Tendances en pourcentage par rapport à {mois_precedent_nom} :\n",
        "- Variation du chiffre d'affaires : {pourcentage_variation_ca:.2f}%\n",
        "- Variation des transactions : {pourcentage_variation_transactions:.2f}%\n",
        "- Variation de la moyenne du chiffre d'affaires : {pourcentage_variation_moyenne_ca:.2f}%\n",
        "\"\"\"\n",
        "\n",
        "# Afficher les résultats\n",
        "print(resultats_kpis)\n"
      ]
    },
    {
      "cell_type": "code",
      "execution_count": 5,
      "metadata": {
        "colab": {
          "base_uri": "https://localhost:8080/"
        },
        "id": "BFdMRUnrFGdq",
        "outputId": "ad819bdd-e74a-4f36-f648-d6d2ed4cda7e"
      },
      "outputs": [
        {
          "name": "stdout",
          "output_type": "stream",
          "text": [
            "Authentification réussie !"
          ]
        }
      ],
      "source": [
        "import warnings\n",
        "\n",
        "# Ignorer tous les avertissements\n",
        "warnings.filterwarnings(\"ignore\")\n",
        "\n",
        "# Lire la clé API depuis le fichier\n",
        "with open(\"api/hf_key.txt\", \"r\") as file:\n",
        "    hf_token = file.read().strip()\n",
        "\n",
        "# Exemple d'utilisation de la clé\n",
        "from huggingface_hub import login, whoami\n",
        "\n",
        "# Authentifiez-vous avec la clé\n",
        "login(hf_token)\n",
        "\n",
        "# Vérifier l'authentification\n",
        "try:\n",
        "    print(f\"Authentification réussie !\")\n",
        "except Exception as e:\n",
        "    print(\"Authentification échouée :\", str(e))\n"
      ]
    },
    {
      "cell_type": "code",
      "execution_count": null,
      "metadata": {
        "id": "ruseqfVcfpEY"
      },
      "outputs": [],
      "source": [
        "!pip install langchain_community"
      ]
    },
    {
      "cell_type": "code",
      "execution_count": 20,
      "metadata": {
        "id": "NK3OP8shfzVK"
      },
      "outputs": [],
      "source": [
        "import os\n",
        "os.environ['HUGGINGFACEHUB_API_TOKEN']=hf_token"
      ]
    },
    {
      "cell_type": "code",
      "execution_count": 28,
      "metadata": {
        "colab": {
          "base_uri": "https://localhost:8080/"
        },
        "id": "LykWxtzGgZTc",
        "outputId": "008d422c-a683-46d3-f5f8-e0697f7cd43a"
      },
      "outputs": [
        {
          "name": "stdout",
          "output_type": "stream",
          "text": [
            "Écrivez un message aux équipes concernant les résultats suivants :\n",
            "\n",
            "KPIs pour Dec 2024 :\n",
            "- Total du chiffre d'affaires : 30265.0\n",
            "- Nombre de transactions : 945\n",
            "- Moyenne du chiffre d'affaires par transaction : 32.0\n",
            "- Produit le plus populaire : Americano with Milk\n",
            "\n",
            "KPIs pour Nov 2024 :\n",
            "- Total du chiffre d'affaires : 42953.0\n",
            "- Nombre de transactions : 1295\n",
            "- Moyenne du chiffre d'affaires par transaction : 33.0\n",
            "- Produit le plus populaire : Latte\n",
            "\n",
            "Tendances en pourcentage par rapport à Nov 2024 :\n",
            "- Variation du chiffre d'affaires : -29.54%\n",
            "- Variation des transactions : -27.03%\n",
            "- Variation de la moyenne du chiffre d'affaires : -3.03%\n",
            "\n",
            "Bonjour à tous,\n",
            "\n",
            "Je tiens à vous partager les résultats de notre performance pour le mois de décembre 2024.\n",
            "\n",
            "Nous avons enregistré un chiffre d'affaires total de 30 265,0 avec un nombre de transactions de 945. La moyenne du chiffre d'affaires par transaction s'élève à 32,0. Le produit le plus populaire ce mois-ci est l'Americano with Milk.\n",
            "\n",
            "En comparaison avec les résultats de novembre 2024, nous avons constaté une baisse de 29,54% du chiffre d'affaires, une baisse de 27,03% des transactions et une baisse de 3,03% de la moyenne du chiffre d'affaires par transaction.\n",
            "\n",
            "Bien que nous ayons connu une baisse de performance ce mois-ci, je tiens à vous remercier pour vos efforts continus et votre engagement envers notre entreprise. Nous devons continuer à travailler ensemble pour atteindre nos objectifs et améliorer nos résultats.\n",
            "\n",
            "Merci de votre attention et de votre dévouement.\n",
            "\n",
            "Cordialement,\n",
            "[Votre nom]\n"
          ]
        }
      ],
      "source": [
        "from langchain import HuggingFaceHub\n",
        "\n",
        "# Initialisation du modèle de langage\n",
        "repo_id = \"mistralai/Mixtral-8x7B-Instruct-v0.1\"\n",
        "llm = HuggingFaceHub(repo_id=repo_id, model_kwargs={\"temperature\": 0.1, \"max_length\": 128})\n",
        "\n",
        "# Création du message basé sur les résultats KPI\n",
        "question = (\n",
        "    f\"Écrivez un message aux équipes concernant les résultats suivants :\\n\"\n",
        "    f\"{resultats_kpis}\"\n",
        ")\n",
        "\n",
        "# Génération de la réponse\n",
        "response = llm(question)\n",
        "\n",
        "# Affichage du message généré\n",
        "print(response)\n"
      ]
    }
  ],
  "metadata": {
    "accelerator": "GPU",
    "colab": {
      "gpuType": "T4",
      "provenance": []
    },
    "kernelspec": {
      "display_name": "Python 3",
      "name": "python3"
    },
    "language_info": {
      "name": "python"
    }
  },
  "nbformat": 4,
  "nbformat_minor": 0
}
